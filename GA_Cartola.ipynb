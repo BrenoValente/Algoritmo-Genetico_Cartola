{
  "nbformat": 4,
  "nbformat_minor": 0,
  "metadata": {
    "colab": {
      "name": "GA_Cartola.ipynb",
      "provenance": [],
      "collapsed_sections": []
    },
    "kernelspec": {
      "display_name": "Python 3",
      "name": "python3"
    },
    "language_info": {
      "name": "python"
    }
  },
  "cells": [
    {
      "cell_type": "markdown",
      "metadata": {
        "id": "SaqZ7x4Tlzqi"
      },
      "source": [
        "## ALGORÍTIMO GENÉTICO PARA OTIMIZAÇÃO DE ESCALAÇÃO DO FANTASY CARTOLA\n"
      ]
    },
    {
      "cell_type": "markdown",
      "metadata": {
        "id": "sX48DH5jmBDq"
      },
      "source": [
        "O objetivo do algorítimo que vamos desenvolver abaixo é otimizar a escalação de times no Cartola FC levando em consideração o preço dos jogadores, a média dos mesmos e com a restrição do nosso *budget* disponível para escalação"
      ]
    },
    {
      "cell_type": "code",
      "metadata": {
        "id": "N7eWGbtDlmps"
      },
      "source": [
        "#importando bibliotecas\n",
        "\n",
        "import pandas as pd\n",
        "import numpy as np\n",
        "\n",
        "import random\n",
        "\n",
        "import matplotlib.pyplot as plt\n",
        "\n"
      ],
      "execution_count": 1,
      "outputs": []
    },
    {
      "cell_type": "code",
      "metadata": {
        "id": "LBLYrJX4mmcf"
      },
      "source": [
        "#importando tabelas de dados\n",
        "#usaremos o reposítório caRtola do GitHub\n",
        "\n",
        "#importaremos dados das rodadas 37 e 38 do último campeonato brasileiro. Ficará mais claro mais a frente o motivo\n",
        "df_rdd_37 = pd.read_html(\"https://github.com/henriquepgomide/caRtola/blob/master/data/2020/rodada-37.csv\")[0]\n",
        "df_rdd_38 = pd.read_html(\"https://github.com/henriquepgomide/caRtola/blob/master/data/2020/rodada-38.csv\")[0]\n",
        "\n"
      ],
      "execution_count": 2,
      "outputs": []
    },
    {
      "cell_type": "code",
      "metadata": {
        "colab": {
          "base_uri": "https://localhost:8080/",
          "height": 417
        },
        "id": "gGc-716Gm7pb",
        "outputId": "a1e99d98-5ac5-4c43-ca78-95622251ea53"
      },
      "source": [
        "df_rdd_37.head()"
      ],
      "execution_count": 3,
      "outputs": [
        {
          "output_type": "execute_result",
          "data": {
            "text/html": [
              "<div>\n",
              "<style scoped>\n",
              "    .dataframe tbody tr th:only-of-type {\n",
              "        vertical-align: middle;\n",
              "    }\n",
              "\n",
              "    .dataframe tbody tr th {\n",
              "        vertical-align: top;\n",
              "    }\n",
              "\n",
              "    .dataframe thead th {\n",
              "        text-align: right;\n",
              "    }\n",
              "</style>\n",
              "<table border=\"1\" class=\"dataframe\">\n",
              "  <thead>\n",
              "    <tr style=\"text-align: right;\">\n",
              "      <th></th>\n",
              "      <th>Unnamed: 0</th>\n",
              "      <th>Unnamed: 1</th>\n",
              "      <th>atletas.nome</th>\n",
              "      <th>atletas.slug</th>\n",
              "      <th>atletas.apelido</th>\n",
              "      <th>atletas.foto</th>\n",
              "      <th>atletas.atleta_id</th>\n",
              "      <th>atletas.rodada_id</th>\n",
              "      <th>atletas.clube_id</th>\n",
              "      <th>atletas.posicao_id</th>\n",
              "      <th>atletas.status_id</th>\n",
              "      <th>atletas.pontos_num</th>\n",
              "      <th>atletas.preco_num</th>\n",
              "      <th>atletas.variacao_num</th>\n",
              "      <th>atletas.media_num</th>\n",
              "      <th>atletas.jogos_num</th>\n",
              "      <th>atletas.clube.id.full.name</th>\n",
              "      <th>athletes$atletas$scout</th>\n",
              "    </tr>\n",
              "  </thead>\n",
              "  <tbody>\n",
              "    <tr>\n",
              "      <th>0</th>\n",
              "      <td>NaN</td>\n",
              "      <td>1</td>\n",
              "      <td>Marcos Felipe de Freitas Monteiro</td>\n",
              "      <td>marcos-felipe</td>\n",
              "      <td>Marcos Felipe</td>\n",
              "      <td>https://s.glbimg.com/es/sde/f/2020/08/11/1e384...</td>\n",
              "      <td>85004</td>\n",
              "      <td>37</td>\n",
              "      <td>266</td>\n",
              "      <td>gol</td>\n",
              "      <td>Provável</td>\n",
              "      <td>0</td>\n",
              "      <td>1.13</td>\n",
              "      <td>-0.91</td>\n",
              "      <td>2.21</td>\n",
              "      <td>16</td>\n",
              "      <td>266</td>\n",
              "      <td>NaN</td>\n",
              "    </tr>\n",
              "    <tr>\n",
              "      <th>1</th>\n",
              "      <td>NaN</td>\n",
              "      <td>2</td>\n",
              "      <td>Fábio Santos Romeu</td>\n",
              "      <td>NaN</td>\n",
              "      <td>Fábio Santos</td>\n",
              "      <td>https://s.glbimg.com/es/sde/f/2020/10/20/af376...</td>\n",
              "      <td>38229</td>\n",
              "      <td>37</td>\n",
              "      <td>264</td>\n",
              "      <td>lat</td>\n",
              "      <td>Provável</td>\n",
              "      <td>0</td>\n",
              "      <td>7.61</td>\n",
              "      <td>1.16</td>\n",
              "      <td>4.79</td>\n",
              "      <td>17</td>\n",
              "      <td>264</td>\n",
              "      <td>NaN</td>\n",
              "    </tr>\n",
              "    <tr>\n",
              "      <th>2</th>\n",
              "      <td>NaN</td>\n",
              "      <td>3</td>\n",
              "      <td>Diego Ribas da Cunha</td>\n",
              "      <td>NaN</td>\n",
              "      <td>Diego</td>\n",
              "      <td>https://s.glbimg.com/es/sde/f/2020/07/21/89f8a...</td>\n",
              "      <td>38909</td>\n",
              "      <td>37</td>\n",
              "      <td>262</td>\n",
              "      <td>mei</td>\n",
              "      <td>Provável</td>\n",
              "      <td>0</td>\n",
              "      <td>4.86</td>\n",
              "      <td>-0.28</td>\n",
              "      <td>1.88</td>\n",
              "      <td>24</td>\n",
              "      <td>Flamengo</td>\n",
              "      <td>NaN</td>\n",
              "    </tr>\n",
              "    <tr>\n",
              "      <th>3</th>\n",
              "      <td>NaN</td>\n",
              "      <td>4</td>\n",
              "      <td>Carlos Eduardo Santos Oliveira</td>\n",
              "      <td>eduardo</td>\n",
              "      <td>Eduardo</td>\n",
              "      <td>https://s.glbimg.com/es/sde/f/2020/03/02/a44ce...</td>\n",
              "      <td>50645</td>\n",
              "      <td>37</td>\n",
              "      <td>354</td>\n",
              "      <td>lat</td>\n",
              "      <td>Provável</td>\n",
              "      <td>0</td>\n",
              "      <td>3.86</td>\n",
              "      <td>1.15</td>\n",
              "      <td>1.58</td>\n",
              "      <td>13</td>\n",
              "      <td>354</td>\n",
              "      <td>NaN</td>\n",
              "    </tr>\n",
              "    <tr>\n",
              "      <th>4</th>\n",
              "      <td>NaN</td>\n",
              "      <td>5</td>\n",
              "      <td>Everton Augusto de Barros Ribeiro</td>\n",
              "      <td>NaN</td>\n",
              "      <td>Everton Ribeiro</td>\n",
              "      <td>https://s.glbimg.com/es/sde/f/2020/07/21/f06a0...</td>\n",
              "      <td>51772</td>\n",
              "      <td>37</td>\n",
              "      <td>262</td>\n",
              "      <td>mei</td>\n",
              "      <td>Provável</td>\n",
              "      <td>0</td>\n",
              "      <td>9.30</td>\n",
              "      <td>-0.65</td>\n",
              "      <td>4.67</td>\n",
              "      <td>31</td>\n",
              "      <td>Flamengo</td>\n",
              "      <td>NaN</td>\n",
              "    </tr>\n",
              "  </tbody>\n",
              "</table>\n",
              "</div>"
            ],
            "text/plain": [
              "   Unnamed: 0  Unnamed: 1  ... atletas.clube.id.full.name athletes$atletas$scout\n",
              "0         NaN           1  ...                        266                    NaN\n",
              "1         NaN           2  ...                        264                    NaN\n",
              "2         NaN           3  ...                   Flamengo                    NaN\n",
              "3         NaN           4  ...                        354                    NaN\n",
              "4         NaN           5  ...                   Flamengo                    NaN\n",
              "\n",
              "[5 rows x 18 columns]"
            ]
          },
          "metadata": {
            "tags": []
          },
          "execution_count": 3
        }
      ]
    },
    {
      "cell_type": "code",
      "metadata": {
        "colab": {
          "base_uri": "https://localhost:8080/",
          "height": 417
        },
        "id": "995LZKxZntkt",
        "outputId": "b3b8b3cf-94a2-4964-e5d4-832d84818bb9"
      },
      "source": [
        "df_rdd_38.head()"
      ],
      "execution_count": 4,
      "outputs": [
        {
          "output_type": "execute_result",
          "data": {
            "text/html": [
              "<div>\n",
              "<style scoped>\n",
              "    .dataframe tbody tr th:only-of-type {\n",
              "        vertical-align: middle;\n",
              "    }\n",
              "\n",
              "    .dataframe tbody tr th {\n",
              "        vertical-align: top;\n",
              "    }\n",
              "\n",
              "    .dataframe thead th {\n",
              "        text-align: right;\n",
              "    }\n",
              "</style>\n",
              "<table border=\"1\" class=\"dataframe\">\n",
              "  <thead>\n",
              "    <tr style=\"text-align: right;\">\n",
              "      <th></th>\n",
              "      <th>Unnamed: 0</th>\n",
              "      <th>Unnamed: 1</th>\n",
              "      <th>atletas.nome</th>\n",
              "      <th>atletas.slug</th>\n",
              "      <th>atletas.apelido</th>\n",
              "      <th>atletas.foto</th>\n",
              "      <th>atletas.atleta_id</th>\n",
              "      <th>atletas.rodada_id</th>\n",
              "      <th>atletas.clube_id</th>\n",
              "      <th>atletas.posicao_id</th>\n",
              "      <th>atletas.status_id</th>\n",
              "      <th>atletas.pontos_num</th>\n",
              "      <th>atletas.preco_num</th>\n",
              "      <th>atletas.variacao_num</th>\n",
              "      <th>atletas.media_num</th>\n",
              "      <th>atletas.jogos_num</th>\n",
              "      <th>atletas.clube.id.full.name</th>\n",
              "      <th>CV</th>\n",
              "      <th>DD</th>\n",
              "      <th>FS</th>\n",
              "      <th>GS</th>\n",
              "      <th>PI</th>\n",
              "      <th>SG</th>\n",
              "      <th>CA</th>\n",
              "      <th>DS</th>\n",
              "      <th>FC</th>\n",
              "      <th>FD</th>\n",
              "      <th>FF</th>\n",
              "      <th>FT</th>\n",
              "      <th>G</th>\n",
              "      <th>I</th>\n",
              "      <th>A</th>\n",
              "      <th>GC</th>\n",
              "      <th>DP</th>\n",
              "      <th>PP</th>\n",
              "    </tr>\n",
              "  </thead>\n",
              "  <tbody>\n",
              "    <tr>\n",
              "      <th>0</th>\n",
              "      <td>NaN</td>\n",
              "      <td>1</td>\n",
              "      <td>Diego Alves Carreira</td>\n",
              "      <td>diego-alves</td>\n",
              "      <td>Diego Alves</td>\n",
              "      <td>https://s.glbimg.com/es/sde/f/2020/07/21/b85ac...</td>\n",
              "      <td>38509</td>\n",
              "      <td>38</td>\n",
              "      <td>262</td>\n",
              "      <td>gol</td>\n",
              "      <td>Nulo</td>\n",
              "      <td>0.0</td>\n",
              "      <td>8.96</td>\n",
              "      <td>0.00</td>\n",
              "      <td>2.14</td>\n",
              "      <td>10</td>\n",
              "      <td>Flamengo</td>\n",
              "      <td>1.0</td>\n",
              "      <td>9.0</td>\n",
              "      <td>3.0</td>\n",
              "      <td>11.0</td>\n",
              "      <td>41.0</td>\n",
              "      <td>3.0</td>\n",
              "      <td>NaN</td>\n",
              "      <td>NaN</td>\n",
              "      <td>NaN</td>\n",
              "      <td>NaN</td>\n",
              "      <td>NaN</td>\n",
              "      <td>NaN</td>\n",
              "      <td>NaN</td>\n",
              "      <td>NaN</td>\n",
              "      <td>NaN</td>\n",
              "      <td>NaN</td>\n",
              "      <td>NaN</td>\n",
              "      <td>NaN</td>\n",
              "    </tr>\n",
              "    <tr>\n",
              "      <th>1</th>\n",
              "      <td>NaN</td>\n",
              "      <td>2</td>\n",
              "      <td>Leonardo Cittadini</td>\n",
              "      <td>leo-cittadini</td>\n",
              "      <td>Léo Cittadini</td>\n",
              "      <td>https://s.glbimg.com/es/sde/f/2019/03/30/47516...</td>\n",
              "      <td>70986</td>\n",
              "      <td>38</td>\n",
              "      <td>293</td>\n",
              "      <td>mei</td>\n",
              "      <td>Provável</td>\n",
              "      <td>13.3</td>\n",
              "      <td>13.77</td>\n",
              "      <td>1.59</td>\n",
              "      <td>4.04</td>\n",
              "      <td>29</td>\n",
              "      <td>293</td>\n",
              "      <td>NaN</td>\n",
              "      <td>NaN</td>\n",
              "      <td>47.0</td>\n",
              "      <td>NaN</td>\n",
              "      <td>102.0</td>\n",
              "      <td>NaN</td>\n",
              "      <td>6.0</td>\n",
              "      <td>69.0</td>\n",
              "      <td>54.0</td>\n",
              "      <td>13.0</td>\n",
              "      <td>21.0</td>\n",
              "      <td>1.0</td>\n",
              "      <td>5.0</td>\n",
              "      <td>3.0</td>\n",
              "      <td>NaN</td>\n",
              "      <td>NaN</td>\n",
              "      <td>NaN</td>\n",
              "      <td>NaN</td>\n",
              "    </tr>\n",
              "    <tr>\n",
              "      <th>2</th>\n",
              "      <td>NaN</td>\n",
              "      <td>3</td>\n",
              "      <td>Thiago Maia Alencar</td>\n",
              "      <td>thiago-maia</td>\n",
              "      <td>Thiago Maia</td>\n",
              "      <td>https://s.glbimg.com/es/sde/f/2020/07/21/e97cd...</td>\n",
              "      <td>89637</td>\n",
              "      <td>38</td>\n",
              "      <td>262</td>\n",
              "      <td>mei</td>\n",
              "      <td>Contundido</td>\n",
              "      <td>0.0</td>\n",
              "      <td>6.99</td>\n",
              "      <td>0.00</td>\n",
              "      <td>2.72</td>\n",
              "      <td>12</td>\n",
              "      <td>Flamengo</td>\n",
              "      <td>NaN</td>\n",
              "      <td>NaN</td>\n",
              "      <td>7.0</td>\n",
              "      <td>NaN</td>\n",
              "      <td>66.0</td>\n",
              "      <td>NaN</td>\n",
              "      <td>4.0</td>\n",
              "      <td>39.0</td>\n",
              "      <td>26.0</td>\n",
              "      <td>2.0</td>\n",
              "      <td>3.0</td>\n",
              "      <td>1.0</td>\n",
              "      <td>NaN</td>\n",
              "      <td>NaN</td>\n",
              "      <td>2.0</td>\n",
              "      <td>NaN</td>\n",
              "      <td>NaN</td>\n",
              "      <td>NaN</td>\n",
              "    </tr>\n",
              "    <tr>\n",
              "      <th>3</th>\n",
              "      <td>NaN</td>\n",
              "      <td>4</td>\n",
              "      <td>Felipe Aguilar Mendoza</td>\n",
              "      <td>aguilar</td>\n",
              "      <td>Aguilar</td>\n",
              "      <td>https://s.glbimg.com/es/sde/f/2020/07/11/d7b39...</td>\n",
              "      <td>95494</td>\n",
              "      <td>38</td>\n",
              "      <td>293</td>\n",
              "      <td>zag</td>\n",
              "      <td>Nulo</td>\n",
              "      <td>5.0</td>\n",
              "      <td>5.75</td>\n",
              "      <td>0.49</td>\n",
              "      <td>2.34</td>\n",
              "      <td>11</td>\n",
              "      <td>293</td>\n",
              "      <td>NaN</td>\n",
              "      <td>NaN</td>\n",
              "      <td>4.0</td>\n",
              "      <td>NaN</td>\n",
              "      <td>11.0</td>\n",
              "      <td>4.0</td>\n",
              "      <td>1.0</td>\n",
              "      <td>11.0</td>\n",
              "      <td>4.0</td>\n",
              "      <td>1.0</td>\n",
              "      <td>2.0</td>\n",
              "      <td>NaN</td>\n",
              "      <td>NaN</td>\n",
              "      <td>NaN</td>\n",
              "      <td>NaN</td>\n",
              "      <td>1.0</td>\n",
              "      <td>NaN</td>\n",
              "      <td>NaN</td>\n",
              "    </tr>\n",
              "    <tr>\n",
              "      <th>4</th>\n",
              "      <td>NaN</td>\n",
              "      <td>5</td>\n",
              "      <td>Aderbar Melo dos Santos Neto</td>\n",
              "      <td>santos</td>\n",
              "      <td>Santos</td>\n",
              "      <td>https://s.glbimg.com/es/sde/f/2019/03/30/e7ce0...</td>\n",
              "      <td>69012</td>\n",
              "      <td>38</td>\n",
              "      <td>293</td>\n",
              "      <td>gol</td>\n",
              "      <td>Provável</td>\n",
              "      <td>9.0</td>\n",
              "      <td>7.44</td>\n",
              "      <td>1.14</td>\n",
              "      <td>2.55</td>\n",
              "      <td>31</td>\n",
              "      <td>293</td>\n",
              "      <td>NaN</td>\n",
              "      <td>21.0</td>\n",
              "      <td>2.0</td>\n",
              "      <td>29.0</td>\n",
              "      <td>257.0</td>\n",
              "      <td>11.0</td>\n",
              "      <td>NaN</td>\n",
              "      <td>2.0</td>\n",
              "      <td>1.0</td>\n",
              "      <td>NaN</td>\n",
              "      <td>NaN</td>\n",
              "      <td>NaN</td>\n",
              "      <td>NaN</td>\n",
              "      <td>NaN</td>\n",
              "      <td>NaN</td>\n",
              "      <td>NaN</td>\n",
              "      <td>3.0</td>\n",
              "      <td>NaN</td>\n",
              "    </tr>\n",
              "  </tbody>\n",
              "</table>\n",
              "</div>"
            ],
            "text/plain": [
              "   Unnamed: 0  Unnamed: 1                  atletas.nome  ...   GC   DP  PP\n",
              "0         NaN           1          Diego Alves Carreira  ...  NaN  NaN NaN\n",
              "1         NaN           2            Leonardo Cittadini  ...  NaN  NaN NaN\n",
              "2         NaN           3           Thiago Maia Alencar  ...  NaN  NaN NaN\n",
              "3         NaN           4        Felipe Aguilar Mendoza  ...  1.0  NaN NaN\n",
              "4         NaN           5  Aderbar Melo dos Santos Neto  ...  NaN  3.0 NaN\n",
              "\n",
              "[5 rows x 35 columns]"
            ]
          },
          "metadata": {
            "tags": []
          },
          "execution_count": 4
        }
      ]
    },
    {
      "cell_type": "code",
      "metadata": {
        "id": "Q_oMDF0Pn29Q"
      },
      "source": [
        "#limpando os dataframes\n",
        "\n",
        "df_rdd_37.drop(columns=[\"Unnamed: 0\", \"Unnamed: 1\", \"atletas.slug\", \"atletas.foto\", \"atletas.rodada_id\", \"atletas.clube_id\", \"atletas.pontos_num\", \"atletas.variacao_num\", \"atletas.clube.id.full.name\", \"athletes$atletas$scout\"], inplace = True)\n",
        "df_rdd_38.drop(columns=[\"Unnamed: 0\", \"Unnamed: 1\", \"atletas.slug\", \"atletas.foto\", \"atletas.rodada_id\", \"atletas.clube_id\", \"atletas.pontos_num\", \"atletas.variacao_num\", \"atletas.clube.id.full.name\", \"CV\", \"DD\", \"FS\", \"GS\", \"PI\", \"SG\", \"CA\", \"DS\", \"FC\", \"FD\", \"FF\", \"FT\", \"G\", \"I\", \"A\", \"GC\", \"DP\", \"PP\"], axis = 0, inplace = True)\n",
        "\n",
        "#renomeando as colunas\n",
        "data_frames = [df_rdd_37, df_rdd_38]\n",
        "for data_frame in data_frames:\n",
        "  data_frame.columns = ['Nome','Apelido', 'ID', 'Posição', 'Status', 'Preço', 'Media', 'Num Jogos']\n"
      ],
      "execution_count": 5,
      "outputs": []
    },
    {
      "cell_type": "code",
      "metadata": {
        "colab": {
          "base_uri": "https://localhost:8080/",
          "height": 206
        },
        "id": "jmW2yG79p8Ti",
        "outputId": "f304c676-c5ba-4366-a877-849b9ec5f106"
      },
      "source": [
        "df_rdd_37.head()"
      ],
      "execution_count": 6,
      "outputs": [
        {
          "output_type": "execute_result",
          "data": {
            "text/html": [
              "<div>\n",
              "<style scoped>\n",
              "    .dataframe tbody tr th:only-of-type {\n",
              "        vertical-align: middle;\n",
              "    }\n",
              "\n",
              "    .dataframe tbody tr th {\n",
              "        vertical-align: top;\n",
              "    }\n",
              "\n",
              "    .dataframe thead th {\n",
              "        text-align: right;\n",
              "    }\n",
              "</style>\n",
              "<table border=\"1\" class=\"dataframe\">\n",
              "  <thead>\n",
              "    <tr style=\"text-align: right;\">\n",
              "      <th></th>\n",
              "      <th>Nome</th>\n",
              "      <th>Apelido</th>\n",
              "      <th>ID</th>\n",
              "      <th>Posição</th>\n",
              "      <th>Status</th>\n",
              "      <th>Preço</th>\n",
              "      <th>Media</th>\n",
              "      <th>Num Jogos</th>\n",
              "    </tr>\n",
              "  </thead>\n",
              "  <tbody>\n",
              "    <tr>\n",
              "      <th>0</th>\n",
              "      <td>Marcos Felipe de Freitas Monteiro</td>\n",
              "      <td>Marcos Felipe</td>\n",
              "      <td>85004</td>\n",
              "      <td>gol</td>\n",
              "      <td>Provável</td>\n",
              "      <td>1.13</td>\n",
              "      <td>2.21</td>\n",
              "      <td>16</td>\n",
              "    </tr>\n",
              "    <tr>\n",
              "      <th>1</th>\n",
              "      <td>Fábio Santos Romeu</td>\n",
              "      <td>Fábio Santos</td>\n",
              "      <td>38229</td>\n",
              "      <td>lat</td>\n",
              "      <td>Provável</td>\n",
              "      <td>7.61</td>\n",
              "      <td>4.79</td>\n",
              "      <td>17</td>\n",
              "    </tr>\n",
              "    <tr>\n",
              "      <th>2</th>\n",
              "      <td>Diego Ribas da Cunha</td>\n",
              "      <td>Diego</td>\n",
              "      <td>38909</td>\n",
              "      <td>mei</td>\n",
              "      <td>Provável</td>\n",
              "      <td>4.86</td>\n",
              "      <td>1.88</td>\n",
              "      <td>24</td>\n",
              "    </tr>\n",
              "    <tr>\n",
              "      <th>3</th>\n",
              "      <td>Carlos Eduardo Santos Oliveira</td>\n",
              "      <td>Eduardo</td>\n",
              "      <td>50645</td>\n",
              "      <td>lat</td>\n",
              "      <td>Provável</td>\n",
              "      <td>3.86</td>\n",
              "      <td>1.58</td>\n",
              "      <td>13</td>\n",
              "    </tr>\n",
              "    <tr>\n",
              "      <th>4</th>\n",
              "      <td>Everton Augusto de Barros Ribeiro</td>\n",
              "      <td>Everton Ribeiro</td>\n",
              "      <td>51772</td>\n",
              "      <td>mei</td>\n",
              "      <td>Provável</td>\n",
              "      <td>9.30</td>\n",
              "      <td>4.67</td>\n",
              "      <td>31</td>\n",
              "    </tr>\n",
              "  </tbody>\n",
              "</table>\n",
              "</div>"
            ],
            "text/plain": [
              "                                Nome          Apelido  ...  Media Num Jogos\n",
              "0  Marcos Felipe de Freitas Monteiro    Marcos Felipe  ...   2.21        16\n",
              "1                 Fábio Santos Romeu     Fábio Santos  ...   4.79        17\n",
              "2               Diego Ribas da Cunha            Diego  ...   1.88        24\n",
              "3     Carlos Eduardo Santos Oliveira          Eduardo  ...   1.58        13\n",
              "4  Everton Augusto de Barros Ribeiro  Everton Ribeiro  ...   4.67        31\n",
              "\n",
              "[5 rows x 8 columns]"
            ]
          },
          "metadata": {
            "tags": []
          },
          "execution_count": 6
        }
      ]
    },
    {
      "cell_type": "code",
      "metadata": {
        "id": "TKEwolyauhWq"
      },
      "source": [
        "#Só nos interessa os jogadores que provavelmente vão começar jogando a 38ª rodada, portanto filtraremos o df_rdd_38 para que permaneça apenas os jogadores que tenham status igual à provavel\n",
        "#Além disso, como usaremos a média, vamos deixar no dataFrame apenas os jogadore com pelo menos 10 jogos para não termos problemas de médias extremas ocasionada por poucos jogos\n",
        "\n",
        "df_rdd_38 = df_rdd_38[(df_rdd_38['Status'] == 'Provável') & (df_rdd_38['Num Jogos'] >= 10)]"
      ],
      "execution_count": 7,
      "outputs": []
    },
    {
      "cell_type": "code",
      "metadata": {
        "colab": {
          "base_uri": "https://localhost:8080/"
        },
        "id": "5CvCOYyduofv",
        "outputId": "1376e250-300e-44c3-fff3-d4660be8e940"
      },
      "source": [
        "df_rdd_38['Status'].value_counts()"
      ],
      "execution_count": 8,
      "outputs": [
        {
          "output_type": "execute_result",
          "data": {
            "text/plain": [
              "Provável    195\n",
              "Name: Status, dtype: int64"
            ]
          },
          "metadata": {
            "tags": []
          },
          "execution_count": 8
        }
      ]
    },
    {
      "cell_type": "markdown",
      "metadata": {
        "id": "EKk9NQEJx2eO"
      },
      "source": [
        "como podemos ver acima, todos os jogadores estão como prováveis"
      ]
    },
    {
      "cell_type": "code",
      "metadata": {
        "id": "UG2MwUTyyC10"
      },
      "source": [
        " \"\"\"Os dados do reposítório consideram a média da rodada 38 já considerando o jogo, o que não nos interessa já que não temos essa informação antes da rodada acontecer.\n",
        "Por esse motivo, pegamos os dados da rodada 37. Teremos que pegar a média da rodada 37 e usar no DataFrame na rodada 38\"\"\"\n",
        "data_frames = [df_rdd_37, df_rdd_38]\n",
        "#definindo o nome como índice para facilitar o próximo passo\n",
        "for data_frame in data_frames:\n",
        "  data_frame.set_index(\"Nome\", inplace=True)\n",
        "\n",
        "#para cada jogador na rdd 38, pegar a média da rodada 37\n",
        "for nome in df_rdd_38.index:\n",
        "  df_rdd_38.loc[[nome], ['Media']] = float(df_rdd_37.loc[[nome]]['Media'])\n",
        "\n",
        "df_rdd_38.reset_index(inplace=True)"
      ],
      "execution_count": 9,
      "outputs": []
    },
    {
      "cell_type": "code",
      "metadata": {
        "colab": {
          "base_uri": "https://localhost:8080/",
          "height": 424
        },
        "id": "xuA9yquJCepS",
        "outputId": "879e91a4-3faf-4f62-f153-93e129a6cccf"
      },
      "source": [
        "df_rdd_38"
      ],
      "execution_count": 10,
      "outputs": [
        {
          "output_type": "execute_result",
          "data": {
            "text/html": [
              "<div>\n",
              "<style scoped>\n",
              "    .dataframe tbody tr th:only-of-type {\n",
              "        vertical-align: middle;\n",
              "    }\n",
              "\n",
              "    .dataframe tbody tr th {\n",
              "        vertical-align: top;\n",
              "    }\n",
              "\n",
              "    .dataframe thead th {\n",
              "        text-align: right;\n",
              "    }\n",
              "</style>\n",
              "<table border=\"1\" class=\"dataframe\">\n",
              "  <thead>\n",
              "    <tr style=\"text-align: right;\">\n",
              "      <th></th>\n",
              "      <th>Nome</th>\n",
              "      <th>Apelido</th>\n",
              "      <th>ID</th>\n",
              "      <th>Posição</th>\n",
              "      <th>Status</th>\n",
              "      <th>Preço</th>\n",
              "      <th>Media</th>\n",
              "      <th>Num Jogos</th>\n",
              "    </tr>\n",
              "  </thead>\n",
              "  <tbody>\n",
              "    <tr>\n",
              "      <th>0</th>\n",
              "      <td>Leonardo Cittadini</td>\n",
              "      <td>Léo Cittadini</td>\n",
              "      <td>70986</td>\n",
              "      <td>mei</td>\n",
              "      <td>Provável</td>\n",
              "      <td>13.77</td>\n",
              "      <td>3.71</td>\n",
              "      <td>29</td>\n",
              "    </tr>\n",
              "    <tr>\n",
              "      <th>1</th>\n",
              "      <td>Aderbar Melo dos Santos Neto</td>\n",
              "      <td>Santos</td>\n",
              "      <td>69012</td>\n",
              "      <td>gol</td>\n",
              "      <td>Provável</td>\n",
              "      <td>7.44</td>\n",
              "      <td>2.34</td>\n",
              "      <td>31</td>\n",
              "    </tr>\n",
              "    <tr>\n",
              "      <th>2</th>\n",
              "      <td>Willian Marlon Ferreira Moraes</td>\n",
              "      <td>Willian Maranhão</td>\n",
              "      <td>87262</td>\n",
              "      <td>mei</td>\n",
              "      <td>Provável</td>\n",
              "      <td>2.61</td>\n",
              "      <td>1.14</td>\n",
              "      <td>22</td>\n",
              "    </tr>\n",
              "    <tr>\n",
              "      <th>3</th>\n",
              "      <td>Gilvan Souza Correa</td>\n",
              "      <td>Gilvan</td>\n",
              "      <td>82773</td>\n",
              "      <td>zag</td>\n",
              "      <td>Provável</td>\n",
              "      <td>5.82</td>\n",
              "      <td>1.86</td>\n",
              "      <td>21</td>\n",
              "    </tr>\n",
              "    <tr>\n",
              "      <th>4</th>\n",
              "      <td>Filipe Luís Kasmirski</td>\n",
              "      <td>Filipe Luís</td>\n",
              "      <td>38750</td>\n",
              "      <td>lat</td>\n",
              "      <td>Provável</td>\n",
              "      <td>7.66</td>\n",
              "      <td>4.26</td>\n",
              "      <td>29</td>\n",
              "    </tr>\n",
              "    <tr>\n",
              "      <th>...</th>\n",
              "      <td>...</td>\n",
              "      <td>...</td>\n",
              "      <td>...</td>\n",
              "      <td>...</td>\n",
              "      <td>...</td>\n",
              "      <td>...</td>\n",
              "      <td>...</td>\n",
              "      <td>...</td>\n",
              "    </tr>\n",
              "    <tr>\n",
              "      <th>190</th>\n",
              "      <td>Rodrigo Eduardo Costa Marinho</td>\n",
              "      <td>Rodriguinho</td>\n",
              "      <td>61033</td>\n",
              "      <td>mei</td>\n",
              "      <td>Provável</td>\n",
              "      <td>13.24</td>\n",
              "      <td>4.50</td>\n",
              "      <td>21</td>\n",
              "    </tr>\n",
              "    <tr>\n",
              "      <th>191</th>\n",
              "      <td>Lucas Fonseca da Silva</td>\n",
              "      <td>Lucas Fonseca</td>\n",
              "      <td>80189</td>\n",
              "      <td>zag</td>\n",
              "      <td>Provável</td>\n",
              "      <td>4.77</td>\n",
              "      <td>2.10</td>\n",
              "      <td>14</td>\n",
              "    </tr>\n",
              "    <tr>\n",
              "      <th>192</th>\n",
              "      <td>Danilo Carvalho Barcelos</td>\n",
              "      <td>Danilo Barcelos</td>\n",
              "      <td>84382</td>\n",
              "      <td>lat</td>\n",
              "      <td>Provável</td>\n",
              "      <td>3.50</td>\n",
              "      <td>0.74</td>\n",
              "      <td>18</td>\n",
              "    </tr>\n",
              "    <tr>\n",
              "      <th>193</th>\n",
              "      <td>Marco Aurélio de Oliveira Breves</td>\n",
              "      <td>Marcão</td>\n",
              "      <td>73476</td>\n",
              "      <td>tec</td>\n",
              "      <td>Provável</td>\n",
              "      <td>10.67</td>\n",
              "      <td>4.59</td>\n",
              "      <td>12</td>\n",
              "    </tr>\n",
              "    <tr>\n",
              "      <th>194</th>\n",
              "      <td>Luis Eduardo Barros Cavalcanti</td>\n",
              "      <td>Dado Cavalcanti</td>\n",
              "      <td>73975</td>\n",
              "      <td>tec</td>\n",
              "      <td>Provável</td>\n",
              "      <td>9.34</td>\n",
              "      <td>3.78</td>\n",
              "      <td>11</td>\n",
              "    </tr>\n",
              "  </tbody>\n",
              "</table>\n",
              "<p>195 rows × 8 columns</p>\n",
              "</div>"
            ],
            "text/plain": [
              "                                 Nome           Apelido  ...  Media Num Jogos\n",
              "0                  Leonardo Cittadini     Léo Cittadini  ...   3.71        29\n",
              "1        Aderbar Melo dos Santos Neto            Santos  ...   2.34        31\n",
              "2      Willian Marlon Ferreira Moraes  Willian Maranhão  ...   1.14        22\n",
              "3                 Gilvan Souza Correa            Gilvan  ...   1.86        21\n",
              "4               Filipe Luís Kasmirski       Filipe Luís  ...   4.26        29\n",
              "..                                ...               ...  ...    ...       ...\n",
              "190     Rodrigo Eduardo Costa Marinho       Rodriguinho  ...   4.50        21\n",
              "191            Lucas Fonseca da Silva     Lucas Fonseca  ...   2.10        14\n",
              "192          Danilo Carvalho Barcelos   Danilo Barcelos  ...   0.74        18\n",
              "193  Marco Aurélio de Oliveira Breves            Marcão  ...   4.59        12\n",
              "194    Luis Eduardo Barros Cavalcanti   Dado Cavalcanti  ...   3.78        11\n",
              "\n",
              "[195 rows x 8 columns]"
            ]
          },
          "metadata": {
            "tags": []
          },
          "execution_count": 10
        }
      ]
    },
    {
      "cell_type": "code",
      "metadata": {
        "id": "1NBMVgRNDAHx"
      },
      "source": [
        "#Criando um dataframe distindo para cada posição a fim de facilitar os próximos passos\n",
        "df_gol = df_rdd_38[df_rdd_38['Posição'] == 'gol']\n",
        "df_zag = df_rdd_38[df_rdd_38['Posição'] == 'zag']\n",
        "df_lat = df_rdd_38[df_rdd_38['Posição'] == 'lat']\n",
        "df_mei = df_rdd_38[df_rdd_38['Posição'] == 'mei']\n",
        "df_ata = df_rdd_38[df_rdd_38['Posição'] == 'ata']\n",
        "df_tec = df_rdd_38[df_rdd_38['Posição'] == 'tec']\n",
        "\n"
      ],
      "execution_count": 11,
      "outputs": []
    },
    {
      "cell_type": "code",
      "metadata": {
        "colab": {
          "base_uri": "https://localhost:8080/"
        },
        "id": "WqFO086RNm5L",
        "outputId": "4a3a6030-2bed-4256-efeb-3b4343bed1d5"
      },
      "source": [
        "#removendo colunas que não serão mais utilizadas\n",
        "df_posicoes = [df_gol, df_zag, df_lat, df_mei, df_ata, df_tec]\n",
        "for posicao in df_posicoes:\n",
        "  posicao.drop(columns=['Nome','Num Jogos', 'Posição', 'Status'], inplace=True)"
      ],
      "execution_count": 12,
      "outputs": [
        {
          "output_type": "stream",
          "text": [
            "/usr/local/lib/python3.7/dist-packages/pandas/core/frame.py:4174: SettingWithCopyWarning: \n",
            "A value is trying to be set on a copy of a slice from a DataFrame\n",
            "\n",
            "See the caveats in the documentation: https://pandas.pydata.org/pandas-docs/stable/user_guide/indexing.html#returning-a-view-versus-a-copy\n",
            "  errors=errors,\n"
          ],
          "name": "stderr"
        }
      ]
    },
    {
      "cell_type": "code",
      "metadata": {
        "id": "o4j8PL6JI9X5"
      },
      "source": [
        "#Criando uma lista de dicionários para cada posição\n",
        "gol = df_gol.to_dict('records')\n",
        "zag = df_zag.to_dict('records')\n",
        "lat = df_lat.to_dict('records')\n",
        "mei = df_mei.to_dict('records')\n",
        "ata = df_ata.to_dict('records')\n",
        "tec  = df_tec.to_dict('records')\n"
      ],
      "execution_count": 13,
      "outputs": []
    },
    {
      "cell_type": "code",
      "metadata": {
        "colab": {
          "base_uri": "https://localhost:8080/"
        },
        "id": "Q28S57YtrIsY",
        "outputId": "8d7494a8-9496-40c4-ee69-1ec0ee3de616"
      },
      "source": [
        "gol"
      ],
      "execution_count": 14,
      "outputs": [
        {
          "output_type": "execute_result",
          "data": {
            "text/plain": [
              "[{'Apelido': 'Santos', 'ID': 69012, 'Media': 2.34, 'Preço': 7.44},\n",
              " {'Apelido': 'Jean', 'ID': 90933, 'Media': 5.32, 'Preço': 9.5},\n",
              " {'Apelido': 'Felipe Alves', 'ID': 72372, 'Media': 2.06, 'Preço': 3.75},\n",
              " {'Apelido': 'Everson', 'ID': 72294, 'Media': 2.59, 'Preço': 9.35},\n",
              " {'Apelido': 'João Paulo', 'ID': 85425, 'Media': 3.1, 'Preço': 6.52},\n",
              " {'Apelido': 'Douglas Friedrich', 'ID': 78584, 'Media': 3.67, 'Preço': 10.21},\n",
              " {'Apelido': 'Tiago Volpi', 'ID': 72018, 'Media': 2.87, 'Preço': 10.95},\n",
              " {'Apelido': 'Marcos Felipe', 'ID': 85004, 'Media': 2.21, 'Preço': 3.12},\n",
              " {'Apelido': 'Fernando Miguel', 'ID': 71571, 'Media': 2.22, 'Preço': 6.95},\n",
              " {'Apelido': 'Tadeu', 'ID': 82453, 'Media': 2.95, 'Preço': 8.84},\n",
              " {'Apelido': 'Marcelo Lomba', 'ID': 68872, 'Media': 1.05, 'Preço': 8.78},\n",
              " {'Apelido': 'Hugo Souza', 'ID': 101574, 'Media': 2.69, 'Preço': 1.8},\n",
              " {'Apelido': 'Luan Polli', 'ID': 88916, 'Media': 1.35, 'Preço': 3.55},\n",
              " {'Apelido': 'Cleiton', 'ID': 93882, 'Media': 0.85, 'Preço': 1.98},\n",
              " {'Apelido': 'Cássio', 'ID': 42234, 'Media': 0.97, 'Preço': 8.74}]"
            ]
          },
          "metadata": {
            "tags": []
          },
          "execution_count": 14
        }
      ]
    },
    {
      "cell_type": "markdown",
      "metadata": {
        "id": "cNy2bV5XP3K1"
      },
      "source": [
        "Agora nós já temos os dados prontos. temos, para cada posição, uma lista de dicionários contento o ID (gene), Média (usado para fitness) e Preço (usado para restrição de valor total)"
      ]
    },
    {
      "cell_type": "markdown",
      "metadata": {
        "id": "w0NsU4fYYI0w"
      },
      "source": [
        "## ALGORÍTIMO GENÉTICO\n"
      ]
    },
    {
      "cell_type": "markdown",
      "metadata": {
        "id": "tgDiPy8AYMGU"
      },
      "source": [
        "Temos que definir parâmetros, oomo tamanho da pop., chance de mutação, chance de crossing-over, num. de indivíduos em cada pop. e número dos melhores indivíduos que será mantido para a próxima geração"
      ]
    },
    {
      "cell_type": "code",
      "metadata": {
        "id": "9ub8EtOsYf_1"
      },
      "source": [
        "MUT_ODDS = 0.01 #Chance de cada gene em um cromossomo ser mutado\n",
        "CO_ODDS = 0.5 #Usando 50% para garantir que aproximadamente metade dos genes venham de cada um dos pais\n",
        "NUM_INDIVIDUOS = 50 #número de indivíduos na população\n",
        "NUM_MELHORES = 5 #número de melhores indivíduos da geração i que estarão na geração i+1\n",
        "NUM_GERACOES = 500 #número de gerações do algorítimo genético (pode mudar dependendo da covergência)\n",
        "\n",
        "BUDGET = 180 #No jogo, é conhecido como patrimônio. É o orçamento que temos para montar um time\n"
      ],
      "execution_count": 15,
      "outputs": []
    },
    {
      "cell_type": "markdown",
      "metadata": {
        "id": "gXNAyFd8Zneu"
      },
      "source": [
        "A partir de agora iremos criar várias funções que comporão, mais a frente, o algorítimo genético em si"
      ]
    },
    {
      "cell_type": "code",
      "metadata": {
        "id": "IBNGW-GVZwvH"
      },
      "source": [
        "def gera_individuo():\n",
        "  \n",
        "  \"\"\"\n",
        "  Função para gerar um índivíduo da população\n",
        "\n",
        "  Argumento: -sem argumento\n",
        "  Saída: Um time, contendo 1 goleiro, 2 zagueiros, 2 laterais, 3 meio-campistas, 3 atacantes e 1 técnico. O formato de saída será uma lista de dicionários\n",
        "  \"\"\"\n",
        "  #sorteando os jogadores que irão compor o time\n",
        "  pos_gol = list(np.random.choice(gol, size = 1))\n",
        "  pos_zag = list(np.random.choice(zag, size = 2))\n",
        "  pos_lat = list(np.random.choice(lat, size = 2))\n",
        "  pos_mei = list(np.random.choice(mei, size = 3))\n",
        "  pos_ata = list(np.random.choice(ata, size = 3))\n",
        "  pos_tec = list(np.random.choice(tec, size = 1))\n",
        "  #como o método np.random.choice retorna um numpy array e nós convertemos para lista, será necessário desempacotar\n",
        "  \n",
        "  time = [pos_gol[0], pos_zag[0], pos_zag[1], pos_lat[0], pos_lat[1], pos_mei[0], pos_mei[1], pos_mei[2], pos_ata[0], pos_ata[1], pos_ata[2], pos_tec[0]]\n",
        "  return time\n",
        "\n",
        "\n"
      ],
      "execution_count": 16,
      "outputs": []
    },
    {
      "cell_type": "code",
      "metadata": {
        "id": "rM9y89SSbHsP"
      },
      "source": [
        "def gera_populacao(n):\n",
        "  \"\"\"\n",
        "  Função para gerar a população inicial\n",
        "\n",
        "  Argumento: numero de indivíduos na população\n",
        "  Saída: uma lista com n indivíduos, sendo cada indivíduo uma lista de dicionários\n",
        "  \"\"\"\n",
        "\n",
        "  populacao = []\n",
        "  for i in range(n):\n",
        "    populacao.append(gera_individuo())\n",
        "  \n",
        "  return populacao\n",
        "  "
      ],
      "execution_count": 17,
      "outputs": []
    },
    {
      "cell_type": "code",
      "metadata": {
        "id": "F5XDbqyWk2Xq"
      },
      "source": [
        "#Para facilitar alguns passos futuros, vamos criar uma função para extrair informações de cada indivíduo\n",
        "\n",
        "def extrai_info(individuo, informacao:str):\n",
        "  \"\"\"\n",
        "  Função para extrair uma informação específica de cada jogador (gene) de um indivíduo\n",
        "\n",
        "  Argumentos: Um indivíduo (time) na forma de lista de dicionário, a informação desejada [\"Apelido\", \"ID\", \"Media\", \"Preço\"]\n",
        "  Saída: Uma lista contendo a informação desejada de cada jogador do time passado\n",
        "  \"\"\"\n",
        "  lista_info = []\n",
        "  for i in range(len(individuo)):\n",
        "    lista_info.append(individuo[i][informacao])\n",
        "  return lista_info\n"
      ],
      "execution_count": 18,
      "outputs": []
    },
    {
      "cell_type": "code",
      "metadata": {
        "id": "l91XfVzrlr47"
      },
      "source": [
        "def calcula_fitness(populacao):\n",
        "  \"\"\"\n",
        "  Função para calcular o fitness, isto é, o desempenho de cada indivíduo de uma população\n",
        "\n",
        "  Argumentos: Uma população (lista de listas de dicionários)\n",
        "  Saída: Uma lista contendo o fitness de cada indivíduo da população\n",
        "\n",
        "  O desempenho será calculado dando valor 0 para indivíduos em que a soma dos preços for maior que o budget definido e, para os que tiverem preço inferior, o fitness será igual à soma das médias de cada jogador\n",
        "  Como no cartola há a função de capitão, que dobra a pontuação do jogador que nós definirmos como capitão do time, nós iremos adicionar à soma das médias a mais alta média dentre todas de cada jogador\n",
        "  \"\"\"\n",
        "  fitness_list = []\n",
        "\n",
        "  for i in range(len(populacao)):\n",
        "    #para cada indivíduo na população, vamos extrair a lista de médias e a lista de preços\n",
        "    media = extrai_info(populacao[i], \"Media\")\n",
        "    preco = extrai_info(populacao[i], \"Preço\")\n",
        "\n",
        "    if sum(preco) > BUDGET:\n",
        "      fitness_list.append(0)\n",
        "    else:\n",
        "      fitness_list.append(round(sum(media),2)+np.argmax(media)) #arredondando para duas casas decimais\n",
        "  \n",
        "  return fitness_list\n",
        "\n",
        "\n"
      ],
      "execution_count": 19,
      "outputs": []
    },
    {
      "cell_type": "code",
      "metadata": {
        "id": "-2WwISlMYNr-"
      },
      "source": [
        "def mutacao(individuo):\n",
        "  \"\"\"\n",
        "  Função para mutar um indivíduo qualquer:\n",
        "\n",
        "  Argumento: Um indivíduo (lista de dicionários)\n",
        "  Saída: Um indivíduo com algumas diferenças do indivíduo passado como argumento\n",
        "\n",
        "  Nós vamos mutar o indivíduo trocando jogadores que compõem o time por novos jogadores aleatoriamente\n",
        "  A probabilidade de cada jogador ser trocado é igual á MUT_ODDS\n",
        "  \"\"\"\n",
        "  #criando um dicinário de índice para que possamos trocar os jogadores por outros da mesma posição\n",
        "  indice = {0:gol, 1:zag, 2:zag, 3:lat, 4:lat, 5:mei, 6:mei, 7:mei, 8:ata, 9:ata, 10:ata, 11:tec}\n",
        "\n",
        "  for i in range(len(individuo)):\n",
        "    if np.random.uniform() < MUT_ODDS:\n",
        "      ID_jogador = individuo[i][\"ID\"]\n",
        "      while ID_jogador in extrai_info(individuo, \"ID\"):\n",
        "        novo_jogador = np.random.choice(indice[i], size = 1)[0] #sorteando um novo jogador\n",
        "        ID_jogador = novo_jogador[\"ID\"] #Pegando o id do novo jogador para verificar se ele já faz parte do time\n",
        "      individuo[i] = novo_jogador\n",
        "\n",
        "  return individuo"
      ],
      "execution_count": 20,
      "outputs": []
    },
    {
      "cell_type": "code",
      "metadata": {
        "id": "ovJLXcUlkqNd"
      },
      "source": [
        "def crossover(individuo1, individuo2):\n",
        "  \"\"\"\n",
        "  Função para combinar dois indivíduos \"pais\" e, com isso, gerar um terceiro indivíduo \"filho\"\n",
        "\n",
        "  Argumentos: dois indivíduos\n",
        "  Saída: um terceiro indivíduo\n",
        "\n",
        "  Nossa função vai gerar um indivíduo que vai ter os genes do individuo1 com probabilidade (1-CO_ODDS) e do indivíduo2 com probabilidade CO_ODDS\n",
        "  \"\"\"\n",
        "  filho = individuo1.copy() #gerando o filho como cópia do indivíduo 1 e, a partir daí, vamos adicionar características do indivíduo 2 nele\n",
        "  \n",
        "  for i in range(len(filho)):\n",
        "    list_ids = extrai_info(filho, \"ID\")\n",
        "\n",
        "    if np.random.uniform() < CO_ODDS:\n",
        "\n",
        "      if individuo2[i][\"ID\"] not in list_ids:\n",
        "        filho[i] = individuo2[i]\n",
        "  \n",
        "  return filho\n",
        "\n"
      ],
      "execution_count": 21,
      "outputs": []
    },
    {
      "cell_type": "code",
      "metadata": {
        "id": "zZNqKV9VotHr"
      },
      "source": [
        "def ordenar_lista(populacao, fitness):\n",
        "  \"\"\"\n",
        "  Para facilitar os próximos passos, vamos criar uma função para ordenar os indivíduos de acordo com o fitness\n",
        "  Ex.: Dada as listas ['abacate', 'mamão', 'laranja'] e [4, 7, 3], nossa função deverá retornar a lista ['mamão', 'abacate', 'laranja'] pois o elemento 'abacate' está relacionado com o número 4, o elemento 'mamão' com o número 7 e, por fim, o elemento 'laranja' está relacionado com o número 3\n",
        "  Ex.: Dada as listas ['bola', 'casa', 'caixa'] e [1, 4, 9] retorna ['caixa', 'casa', 'bola']. O maior número, 9, corresponde à caixa e assim por diante\n",
        "\n",
        "  Argumentos: população (lista de listas) e fitness (lista contendo o fitness para cada indivíduo da população)\n",
        "  Saídas: a população com os indivíduos ordenados de acordo com o fitness e a lista de fitness também ordenada do maior para o menor valor\n",
        "\n",
        "  \"\"\"\n",
        "  sorted_pop = []\n",
        "  sorted_fit = fitness.copy()\n",
        "  \n",
        "  sorted_fit = sorted(sorted_fit, reverse=True) #Criando uma lista como cópia da lista de fitness e ordenando decrescentemente.\n",
        "  \n",
        "  #A ideia é percorrer a lista aux e, para cada valor encontrar indice do correspondente na lista de fitness e com isso conseguiremos localizar os valores na lista referente à população\n",
        "\n",
        "  for value in sorted_fit:\n",
        "    pos = fitness.index(value) #encontrando a posição do item na lista de fitness\n",
        "\n",
        "    sorted_pop.append(populacao[pos]) #adicionando o valor na lista de valores sorteados\n",
        "    \n",
        "    fitness.pop(pos) #removendo o valor da lista de fitness para evitar problemas com dois valores iguais\n",
        "    populacao.pop(pos) #removendo, também, o valor que foi adicionado\n",
        "    \n",
        "  return sorted_pop, sorted_fit\n",
        "  \n",
        "  "
      ],
      "execution_count": 22,
      "outputs": []
    },
    {
      "cell_type": "code",
      "metadata": {
        "id": "3q9yqW9M4x3Q"
      },
      "source": [
        "def escolhe_pais(populacao, fitness):\n",
        "  \"\"\"\n",
        "  Uma função para poder escolher dois indivíduos que darão origem à um novo na função crossover()\n",
        "\n",
        "  Argumentos: população (pode estar ordenada ou nao) e fitness referente à população\n",
        "  Saída: Dois indivíduos escolhidos através do método da roleta proporcional*\n",
        "\n",
        "  *o método da roleta será introduzido definindo o argumento fitness como weights na função random.choices()\n",
        "\n",
        "  OBS: Usando random.choices() pois np.random.choice não consegue trabalhar com lista de listas de dicionários\n",
        "  \"\"\"\n",
        "  parents = random.choices(populacao, weights=fitness, k = 2)\n",
        "  \n",
        "  \n",
        "  return parents[0], parents[1]\n",
        "  "
      ],
      "execution_count": 23,
      "outputs": []
    },
    {
      "cell_type": "code",
      "metadata": {
        "id": "sVl01ZDQ_J6R"
      },
      "source": [
        "def proxima_geracao(populacao, fitness):\n",
        "  \"\"\"\n",
        "  Função para criar a proxima geraçao de indivíduos a partir da geração atual\n",
        "\n",
        "  Argumentos: a população atual e o fitness relacionado. Neste passo é fundamental que os valores estejam ordenados pela função ordena_lista()\n",
        "  Saída: Uma nova população de tamanho NUM_INDIVIDUOS, sendo a população uma lista de listas de dicionários\n",
        "\n",
        "  PASSOS:\n",
        "    -Pega os NUM_MELHORES indivíduos da população atual e adiciona na proxima população\n",
        "    -Enquanto a população não estiver completa:\n",
        "      -seleciona dois indivíduos \n",
        "      -faz o crossover dos dois indivíduos selecionados\n",
        "      -muta o filho resultante do processo anterior\n",
        "      -adiciona o filho à população\n",
        "  \"\"\"\n",
        "  nova_populacao = populacao[:NUM_MELHORES] #adicionando os melhores da pop passada à nova pop\n",
        "\n",
        "  while len(nova_populacao) < NUM_INDIVIDUOS:\n",
        "    ind1, ind2 = escolhe_pais(populacao, fitness)\n",
        "    filho = crossover(ind1, ind2)\n",
        "    filho_mutado = mutacao(filho)\n",
        "    \n",
        "    nova_populacao.append(filho_mutado)\n",
        "  \n",
        "  return nova_populacao\n",
        "    "
      ],
      "execution_count": 24,
      "outputs": []
    },
    {
      "cell_type": "code",
      "metadata": {
        "id": "UHNK6_0vjcsD"
      },
      "source": [
        "melhores_individuos = []\n",
        "\n",
        "populacao = gera_populacao(NUM_INDIVIDUOS)\n",
        "\n",
        "for geracao in range(NUM_GERACOES):\n",
        "  fitness = calcula_fitness(populacao)\n",
        "    \n",
        "  populacao, fitness = ordenar_lista(populacao, fitness)\n",
        "    \n",
        "  #vamos adicionar o melhor fitness da geração para podermos ver a evolução posteriormente\n",
        "  melhores_individuos.append(fitness[0])\n",
        "\n",
        "\n",
        "\n",
        "  populacao = proxima_geracao(populacao, fitness)\n",
        "    \n",
        "  #Como definimos a população no último passo do for, é necessário calcular o desempenho desta população (a última) fora do laço\n",
        "fitness = calcula_fitness(populacao)\n",
        "populacao, fitness = ordenar_lista(populacao, fitness)\n",
        "melhores_individuos.append(fitness[0])\n",
        "  \n",
        "melhor_time = extrai_info(populacao[0], \"Apelido\")\n",
        "melhor_preco = sum(extrai_info(populacao[0], \"Preço\"))"
      ],
      "execution_count": 37,
      "outputs": []
    },
    {
      "cell_type": "code",
      "metadata": {
        "colab": {
          "base_uri": "https://localhost:8080/",
          "height": 279
        },
        "id": "uiS9Y-UDj60f",
        "outputId": "c60abbeb-f940-4569-b3ad-ce7c668e477a"
      },
      "source": [
        "plt.style.context(\"classic\")\n",
        "plt.plot(melhores_individuos, color = \"green\")\n",
        "plt.xlabel(\"Geração\")\n",
        "plt.ylabel(\"Pontuação\")\n",
        "plt.show()"
      ],
      "execution_count": 36,
      "outputs": [
        {
          "output_type": "display_data",
          "data": {
            "image/png": "[encoded data removed]",
            "text/plain": [
              "<Figure size 432x288 with 1 Axes>"
            ]
          },
          "metadata": {
            "tags": [],
            "needs_background": "light"
          }
        }
      ]
    },
    {
      "cell_type": "code",
      "metadata": {
        "colab": {
          "base_uri": "https://localhost:8080/",
          "height": 297
        },
        "id": "fs_WAGuwnVF9",
        "outputId": "d43615b8-7e1a-493b-f1e3-7baec8564c86"
      },
      "source": [
        "plt.plot(melhores_individuos)\n",
        "plt.legend()\n",
        "plt.xlabel(\"Geração\")\n",
        "plt.ylabel(\"Pontuação\")\n",
        "plt.show()"
      ],
      "execution_count": 27,
      "outputs": [
        {
          "output_type": "stream",
          "text": [
            "No handles with labels found to put in legend.\n"
          ],
          "name": "stderr"
        },
        {
          "output_type": "display_data",
          "data": {
            "image/png": "[encoded data removed]",
            "text/plain": [
              "<Figure size 432x288 with 1 Axes>"
            ]
          },
          "metadata": {
            "tags": [],
            "needs_background": "light"
          }
        }
      ]
    },
    {
      "cell_type": "code",
      "metadata": {
        "colab": {
          "base_uri": "https://localhost:8080/"
        },
        "id": "41PKBJpykpXx",
        "outputId": "ac146dd6-822a-4326-a8e8-154091550082"
      },
      "source": [
        "populacao[0]"
      ],
      "execution_count": 28,
      "outputs": [
        {
          "output_type": "execute_result",
          "data": {
            "text/plain": [
              "[{'Apelido': 'Jean', 'ID': 90933, 'Media': 5.32, 'Preço': 9.5},\n",
              " {'Apelido': 'Matheus Ferraz', 'ID': 38632, 'Media': 3.63, 'Preço': 7.87},\n",
              " {'Apelido': 'Fábio Sanches', 'ID': 71604, 'Media': 3.64, 'Preço': 6.09},\n",
              " {'Apelido': 'Calegari', 'ID': 104276, 'Media': 5.65, 'Preço': 7.12},\n",
              " {'Apelido': 'Fábio Santos', 'ID': 38229, 'Media': 4.79, 'Preço': 7.75},\n",
              " {'Apelido': 'Vina', 'ID': 71162, 'Media': 6.63, 'Preço': 11.34},\n",
              " {'Apelido': 'Raul', 'ID': 92496, 'Media': 5.2, 'Preço': 9.04},\n",
              " {'Apelido': 'Arrascaeta', 'ID': 87863, 'Media': 6.46, 'Preço': 17.87},\n",
              " {'Apelido': 'Gabriel', 'ID': 83257, 'Media': 6.26, 'Preço': 12.0},\n",
              " {'Apelido': 'Keno', 'ID': 86485, 'Media': 6.38, 'Preço': 14.75},\n",
              " {'Apelido': 'Claudinho', 'ID': 92630, 'Media': 6.81, 'Preço': 16.6},\n",
              " {'Apelido': 'Marcão', 'ID': 73476, 'Media': 4.59, 'Preço': 10.67}]"
            ]
          },
          "metadata": {
            "tags": []
          },
          "execution_count": 28
        }
      ]
    },
    {
      "cell_type": "code",
      "metadata": {
        "id": "0BmEjsQF-V3t"
      },
      "source": [
        "##TESTES COM VALORES DE MUTAÇÃO DIFERENTES\n",
        "\n",
        "resultados = []\n",
        "mut = [0.01, 0.05, 0.1, 0.2, 0.3, 0.5, 0.8]\n",
        "for valor_mutacao in mut:\n",
        "  MUT_ODDS = valor_mutacao\n",
        "  melhores_individuos = []\n",
        "\n",
        "  populacao = gera_populacao(NUM_INDIVIDUOS)\n",
        "\n",
        "  for geracao in range(NUM_GERACOES):\n",
        "    fitness = calcula_fitness(populacao)\n",
        "    \n",
        "    populacao, fitness = ordenar_lista(populacao, fitness)\n",
        "    \n",
        "    #vamos adicionar o melhor fitness da geração para podermos ver a evolução posteriormente\n",
        "    melhores_individuos.append(fitness[0])\n",
        "\n",
        "\n",
        "\n",
        "    populacao = proxima_geracao(populacao, fitness)\n",
        "    \n",
        "  #Como definimos a população no último passo do for, é necessário calcular o desempenho desta população (a última) fora do laço\n",
        "  fitness = calcula_fitness(populacao)\n",
        "  populacao, fitness = ordenar_lista(populacao, fitness)\n",
        "  melhores_individuos.append(fitness[0])\n",
        "  resultados.append(melhores_individuos)\n",
        "  melhor_time = extrai_info(populacao[0], \"Apelido\")\n",
        "  melhor_preco = sum(extrai_info(populacao[0], \"Preço\"))"
      ],
      "execution_count": 29,
      "outputs": []
    },
    {
      "cell_type": "code",
      "metadata": {
        "colab": {
          "base_uri": "https://localhost:8080/",
          "height": 606
        },
        "id": "hSbh1aQPJ42g",
        "outputId": "81cda455-a94f-404b-dfdc-74f475eeca1f"
      },
      "source": [
        "plt.figure(figsize = (10, 10))\n",
        "plt.plot(resultados[0], label = str(mut[0]))\n",
        "plt.plot(resultados[1], label = str(mut[1]))\n",
        "plt.plot(resultados[2], label = str(mut[2]))\n",
        "plt.plot(resultados[3], label = str(mut[3]))\n",
        "plt.plot(resultados[4], label = str(mut[4]))\n",
        "plt.plot(resultados[5], label = str(mut[5]))\n",
        "plt.plot(resultados[5], label = str(mut[6]))\n",
        "plt.legend()\n",
        "plt.xlabel(\"Geração\")\n",
        "plt.ylabel(\"Pontuação\")\n",
        "plt.show()"
      ],
      "execution_count": 30,
      "outputs": [
        {
          "output_type": "display_data",
          "data": {
            "image/png": "[encoded data removed]",
            "text/plain": [
              "<Figure size 720x720 with 1 Axes>"
            ]
          },
          "metadata": {
            "tags": [],
            "needs_background": "light"
          }
        }
      ]
    },
    {
      "cell_type": "code",
      "metadata": {
        "colab": {
          "base_uri": "https://localhost:8080/"
        },
        "id": "pSYV183BJYP_",
        "outputId": "428b6b2b-1c7e-4ed1-9aff-3676717654c9"
      },
      "source": [
        "melhor_time, fitness[0], melhor_preco"
      ],
      "execution_count": 31,
      "outputs": [
        {
          "output_type": "execute_result",
          "data": {
            "text/plain": [
              "(['Jean',\n",
              "  'Wagner Leonardo',\n",
              "  'Lucas Ribeiro',\n",
              "  'Calegari',\n",
              "  'Guilherme Arana',\n",
              "  'Edenílson',\n",
              "  'Tchê Tchê',\n",
              "  'Arrascaeta',\n",
              "  'Wellington Paulista',\n",
              "  'Bruno Henrique',\n",
              "  'Claudinho',\n",
              "  'Vagner Mancini'],\n",
              " 61.82,\n",
              " 120.97000000000001)"
            ]
          },
          "metadata": {
            "tags": []
          },
          "execution_count": 31
        }
      ]
    }
  ]
}